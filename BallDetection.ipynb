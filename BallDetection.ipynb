{
 "cells": [
  {
   "cell_type": "code",
   "execution_count": 3,
   "id": "93bc8e31",
   "metadata": {},
   "outputs": [
    {
     "name": "stdout",
     "output_type": "stream",
     "text": [
      "Requirement already satisfied: torch in /Users/viktorgalindo/opt/anaconda3/lib/python3.8/site-packages (1.9.0)\r\n",
      "Requirement already satisfied: typing-extensions in /Users/viktorgalindo/opt/anaconda3/lib/python3.8/site-packages (from torch) (3.7.4.3)\r\n"
     ]
    }
   ],
   "source": [
    "!pip install torch"
   ]
  },
  {
   "cell_type": "code",
   "execution_count": 2,
   "id": "dd7395de",
   "metadata": {},
   "outputs": [
    {
     "name": "stdout",
     "output_type": "stream",
     "text": [
      "Cloning into 'yolov5'...\n",
      "remote: Enumerating objects: 9085, done.\u001b[K\n",
      "remote: Counting objects: 100% (120/120), done.\u001b[K\n",
      "remote: Compressing objects: 100% (87/87), done.\u001b[K\n",
      "remote: Total 9085 (delta 57), reused 75 (delta 33), pack-reused 8965\u001b[K\n",
      "Receiving objects: 100% (9085/9085), 9.49 MiB | 7.55 MiB/s, done.\n",
      "Resolving deltas: 100% (6303/6303), done.\n"
     ]
    }
   ],
   "source": [
    "!git clone https://github.com/ultralytics/yolov5"
   ]
  },
  {
   "cell_type": "code",
   "execution_count": 8,
   "id": "d8836ede",
   "metadata": {
    "collapsed": true
   },
   "outputs": [
    {
     "name": "stdout",
     "output_type": "stream",
     "text": [
      "Requirement already satisfied: matplotlib>=3.2.2 in /Users/viktorgalindo/opt/anaconda3/lib/python3.8/site-packages (from -r yolov5/requirements.txt (line 4)) (3.4.2)\n",
      "Requirement already satisfied: numpy>=1.18.5 in /Users/viktorgalindo/opt/anaconda3/lib/python3.8/site-packages (from -r yolov5/requirements.txt (line 5)) (1.19.5)\n",
      "Requirement already satisfied: opencv-python>=4.1.2 in /Users/viktorgalindo/opt/anaconda3/lib/python3.8/site-packages (from -r yolov5/requirements.txt (line 6)) (4.5.3.56)\n",
      "Requirement already satisfied: Pillow in /Users/viktorgalindo/opt/anaconda3/lib/python3.8/site-packages (from -r yolov5/requirements.txt (line 7)) (8.2.0)\n",
      "Requirement already satisfied: PyYAML>=5.3.1 in /Users/viktorgalindo/opt/anaconda3/lib/python3.8/site-packages (from -r yolov5/requirements.txt (line 8)) (5.4.1)\n",
      "Requirement already satisfied: scipy>=1.4.1 in /Users/viktorgalindo/opt/anaconda3/lib/python3.8/site-packages (from -r yolov5/requirements.txt (line 9)) (1.7.0)\n",
      "Requirement already satisfied: torch>=1.7.0 in /Users/viktorgalindo/opt/anaconda3/lib/python3.8/site-packages (from -r yolov5/requirements.txt (line 10)) (1.9.0)\n",
      "Requirement already satisfied: torchvision>=0.8.1 in /Users/viktorgalindo/opt/anaconda3/lib/python3.8/site-packages (from -r yolov5/requirements.txt (line 11)) (0.10.0)\n",
      "Requirement already satisfied: tqdm>=4.41.0 in /Users/viktorgalindo/opt/anaconda3/lib/python3.8/site-packages (from -r yolov5/requirements.txt (line 12)) (4.59.0)\n",
      "Requirement already satisfied: tensorboard>=2.4.1 in /Users/viktorgalindo/opt/anaconda3/lib/python3.8/site-packages (from -r yolov5/requirements.txt (line 15)) (2.6.0)\n",
      "Requirement already satisfied: seaborn>=0.11.0 in /Users/viktorgalindo/opt/anaconda3/lib/python3.8/site-packages (from -r yolov5/requirements.txt (line 19)) (0.11.1)\n",
      "Requirement already satisfied: pandas in /Users/viktorgalindo/opt/anaconda3/lib/python3.8/site-packages (from -r yolov5/requirements.txt (line 20)) (1.2.4)\n",
      "Collecting thop\n",
      "  Downloading thop-0.0.31.post2005241907-py3-none-any.whl (8.7 kB)\n",
      "Requirement already satisfied: cycler>=0.10 in /Users/viktorgalindo/opt/anaconda3/lib/python3.8/site-packages (from matplotlib>=3.2.2->-r yolov5/requirements.txt (line 4)) (0.10.0)\n",
      "Requirement already satisfied: python-dateutil>=2.7 in /Users/viktorgalindo/opt/anaconda3/lib/python3.8/site-packages (from matplotlib>=3.2.2->-r yolov5/requirements.txt (line 4)) (2.8.1)\n",
      "Requirement already satisfied: kiwisolver>=1.0.1 in /Users/viktorgalindo/opt/anaconda3/lib/python3.8/site-packages (from matplotlib>=3.2.2->-r yolov5/requirements.txt (line 4)) (1.3.1)\n",
      "Requirement already satisfied: pyparsing>=2.2.1 in /Users/viktorgalindo/opt/anaconda3/lib/python3.8/site-packages (from matplotlib>=3.2.2->-r yolov5/requirements.txt (line 4)) (2.4.7)\n",
      "Requirement already satisfied: typing-extensions in /Users/viktorgalindo/opt/anaconda3/lib/python3.8/site-packages (from torch>=1.7.0->-r yolov5/requirements.txt (line 10)) (3.7.4.3)\n",
      "Requirement already satisfied: google-auth<2,>=1.6.3 in /Users/viktorgalindo/opt/anaconda3/lib/python3.8/site-packages (from tensorboard>=2.4.1->-r yolov5/requirements.txt (line 15)) (1.32.0)\n",
      "Requirement already satisfied: grpcio>=1.24.3 in /Users/viktorgalindo/opt/anaconda3/lib/python3.8/site-packages (from tensorboard>=2.4.1->-r yolov5/requirements.txt (line 15)) (1.39.0)\n",
      "Requirement already satisfied: protobuf>=3.6.0 in /Users/viktorgalindo/opt/anaconda3/lib/python3.8/site-packages (from tensorboard>=2.4.1->-r yolov5/requirements.txt (line 15)) (3.17.3)\n",
      "Requirement already satisfied: google-auth-oauthlib<0.5,>=0.4.1 in /Users/viktorgalindo/opt/anaconda3/lib/python3.8/site-packages (from tensorboard>=2.4.1->-r yolov5/requirements.txt (line 15)) (0.4.4)\n",
      "Requirement already satisfied: werkzeug>=0.11.15 in /Users/viktorgalindo/opt/anaconda3/lib/python3.8/site-packages (from tensorboard>=2.4.1->-r yolov5/requirements.txt (line 15)) (1.0.1)\n",
      "Requirement already satisfied: tensorboard-data-server<0.7.0,>=0.6.0 in /Users/viktorgalindo/opt/anaconda3/lib/python3.8/site-packages (from tensorboard>=2.4.1->-r yolov5/requirements.txt (line 15)) (0.6.1)\n",
      "Requirement already satisfied: setuptools>=41.0.0 in /Users/viktorgalindo/opt/anaconda3/lib/python3.8/site-packages (from tensorboard>=2.4.1->-r yolov5/requirements.txt (line 15)) (57.4.0)\n",
      "Requirement already satisfied: tensorboard-plugin-wit>=1.6.0 in /Users/viktorgalindo/opt/anaconda3/lib/python3.8/site-packages (from tensorboard>=2.4.1->-r yolov5/requirements.txt (line 15)) (1.8.0)\n",
      "Requirement already satisfied: absl-py>=0.4 in /Users/viktorgalindo/opt/anaconda3/lib/python3.8/site-packages (from tensorboard>=2.4.1->-r yolov5/requirements.txt (line 15)) (0.12.0)\n",
      "Requirement already satisfied: wheel>=0.26 in /Users/viktorgalindo/opt/anaconda3/lib/python3.8/site-packages (from tensorboard>=2.4.1->-r yolov5/requirements.txt (line 15)) (0.37.0)\n",
      "Requirement already satisfied: requests<3,>=2.21.0 in /Users/viktorgalindo/opt/anaconda3/lib/python3.8/site-packages (from tensorboard>=2.4.1->-r yolov5/requirements.txt (line 15)) (2.25.1)\n",
      "Requirement already satisfied: markdown>=2.6.8 in /Users/viktorgalindo/opt/anaconda3/lib/python3.8/site-packages (from tensorboard>=2.4.1->-r yolov5/requirements.txt (line 15)) (3.3.4)\n",
      "Requirement already satisfied: pytz>=2017.3 in /Users/viktorgalindo/opt/anaconda3/lib/python3.8/site-packages (from pandas->-r yolov5/requirements.txt (line 20)) (2021.1)\n",
      "Requirement already satisfied: six in /Users/viktorgalindo/opt/anaconda3/lib/python3.8/site-packages (from absl-py>=0.4->tensorboard>=2.4.1->-r yolov5/requirements.txt (line 15)) (1.15.0)\n",
      "Requirement already satisfied: pyasn1-modules>=0.2.1 in /Users/viktorgalindo/opt/anaconda3/lib/python3.8/site-packages (from google-auth<2,>=1.6.3->tensorboard>=2.4.1->-r yolov5/requirements.txt (line 15)) (0.2.8)\n",
      "Requirement already satisfied: cachetools<5.0,>=2.0.0 in /Users/viktorgalindo/opt/anaconda3/lib/python3.8/site-packages (from google-auth<2,>=1.6.3->tensorboard>=2.4.1->-r yolov5/requirements.txt (line 15)) (4.2.2)\n",
      "Requirement already satisfied: rsa<5,>=3.1.4 in /Users/viktorgalindo/opt/anaconda3/lib/python3.8/site-packages (from google-auth<2,>=1.6.3->tensorboard>=2.4.1->-r yolov5/requirements.txt (line 15)) (4.7.2)\n",
      "Requirement already satisfied: requests-oauthlib>=0.7.0 in /Users/viktorgalindo/opt/anaconda3/lib/python3.8/site-packages (from google-auth-oauthlib<0.5,>=0.4.1->tensorboard>=2.4.1->-r yolov5/requirements.txt (line 15)) (1.3.0)\n",
      "Requirement already satisfied: pyasn1<0.5.0,>=0.4.6 in /Users/viktorgalindo/opt/anaconda3/lib/python3.8/site-packages (from pyasn1-modules>=0.2.1->google-auth<2,>=1.6.3->tensorboard>=2.4.1->-r yolov5/requirements.txt (line 15)) (0.4.8)\n",
      "Requirement already satisfied: chardet<5,>=3.0.2 in /Users/viktorgalindo/opt/anaconda3/lib/python3.8/site-packages (from requests<3,>=2.21.0->tensorboard>=2.4.1->-r yolov5/requirements.txt (line 15)) (4.0.0)\n",
      "Requirement already satisfied: idna<3,>=2.5 in /Users/viktorgalindo/opt/anaconda3/lib/python3.8/site-packages (from requests<3,>=2.21.0->tensorboard>=2.4.1->-r yolov5/requirements.txt (line 15)) (2.10)\n",
      "Requirement already satisfied: urllib3<1.27,>=1.21.1 in /Users/viktorgalindo/opt/anaconda3/lib/python3.8/site-packages (from requests<3,>=2.21.0->tensorboard>=2.4.1->-r yolov5/requirements.txt (line 15)) (1.26.4)\n",
      "Requirement already satisfied: certifi>=2017.4.17 in /Users/viktorgalindo/opt/anaconda3/lib/python3.8/site-packages (from requests<3,>=2.21.0->tensorboard>=2.4.1->-r yolov5/requirements.txt (line 15)) (2021.5.30)\n",
      "Requirement already satisfied: oauthlib>=3.0.0 in /Users/viktorgalindo/opt/anaconda3/lib/python3.8/site-packages (from requests-oauthlib>=0.7.0->google-auth-oauthlib<0.5,>=0.4.1->tensorboard>=2.4.1->-r yolov5/requirements.txt (line 15)) (3.1.1)\n",
      "Installing collected packages: thop\n",
      "Successfully installed thop-0.0.31.post2005241907\n"
     ]
    }
   ],
   "source": [
    "!pip install -r yolov5/requirements.txt"
   ]
  },
  {
   "cell_type": "code",
   "execution_count": 38,
   "id": "e36bf7d8",
   "metadata": {},
   "outputs": [],
   "source": [
    "import torch\n",
    "from matplotlib import pyplot as plt\n",
    "import numpy as np\n",
    "import pandas as pd\n",
    "import cv2"
   ]
  },
  {
   "cell_type": "code",
   "execution_count": 2,
   "id": "0b9c0f13",
   "metadata": {},
   "outputs": [
    {
     "name": "stderr",
     "output_type": "stream",
     "text": [
      "Using cache found in /Users/viktorgalindo/.cache/torch/hub/ultralytics_yolov5_master\n",
      "YOLOv5 🚀 2021-8-24 torch 1.9.0 CPU\n",
      "\n",
      "Fusing layers... \n",
      "Model Summary: 224 layers, 7266973 parameters, 0 gradients\n",
      "Adding AutoShape... \n"
     ]
    }
   ],
   "source": [
    "model = torch.hub.load('ultralytics/yolov5','yolov5s')"
   ]
  },
  {
   "cell_type": "code",
   "execution_count": 6,
   "id": "24ed678a",
   "metadata": {},
   "outputs": [],
   "source": [
    "import uuid\n",
    "import os\n",
    "import time"
   ]
  },
  {
   "cell_type": "code",
   "execution_count": 1,
   "id": "1197402f",
   "metadata": {},
   "outputs": [],
   "source": [
    "#Training the model\n",
    "#!cd yolov5 && python train.py --img 1080 --batch 16 --epochs 5 --data dataset.yaml --weights yolov5s.pt --workers 1"
   ]
  },
  {
   "cell_type": "code",
   "execution_count": null,
   "id": "979448af",
   "metadata": {},
   "outputs": [],
   "source": []
  },
  {
   "cell_type": "code",
   "execution_count": null,
   "id": "43d749c3",
   "metadata": {},
   "outputs": [],
   "source": []
  },
  {
   "cell_type": "code",
   "execution_count": null,
   "id": "bf17ebc5",
   "metadata": {},
   "outputs": [],
   "source": [
    "#Dataframes for detection and output csv file"
   ]
  },
  {
   "cell_type": "code",
   "execution_count": 39,
   "id": "ded15269",
   "metadata": {},
   "outputs": [],
   "source": [
    "df = pd.DataFrame()"
   ]
  },
  {
   "cell_type": "code",
   "execution_count": 50,
   "id": "48f598d8",
   "metadata": {},
   "outputs": [],
   "source": [
    "output_csv_df = pd.DataFrame()"
   ]
  },
  {
   "cell_type": "code",
   "execution_count": null,
   "id": "18ae0a8e",
   "metadata": {},
   "outputs": [],
   "source": []
  },
  {
   "cell_type": "code",
   "execution_count": null,
   "id": "e49784bd",
   "metadata": {},
   "outputs": [],
   "source": []
  },
  {
   "cell_type": "code",
   "execution_count": 16,
   "id": "cd46961c",
   "metadata": {},
   "outputs": [],
   "source": [
    "# model = torch.hub.load('ultralytics/yolov5', 'custom', path='yolov5/runs/train/exp10/weights/last.pt', force_reload = True)"
   ]
  },
  {
   "cell_type": "code",
   "execution_count": 4,
   "id": "ef3bb82c",
   "metadata": {},
   "outputs": [],
   "source": [
    "cap = cv2.VideoCapture('part1.mp4')\n",
    "\n",
    "#video frame counter\n",
    "frame_no = 0\n",
    "\n",
    "while cap.isOpened():\n",
    "    ret, frame = cap.read()\n",
    "    if not ret:\n",
    "        break\n",
    "    frame_no += 1\n",
    "    results = model(frame)\n",
    "    #cv2.imshow('YOLO', np.squeeze(results.render()))\n",
    "    \n",
    "    df = results.pandas().xyxy[0]\n",
    "    df[df['name'] == 'sports ball']\n",
    "    \n",
    "    #if dataframe != None\n",
    "    #output_csv_df.append(...) frame_no, (x_min + x_max)/2, (y_min + y_max)/2\n",
    "    \n",
    "\n",
    "    if cv2.waitKey(5) & 0xFF == ord('q'):\n",
    "        break\n",
    "#output_csv_df.to_csv()\n",
    "cap.release()\n",
    "cv2.destroyAllWindows()"
   ]
  },
  {
   "cell_type": "code",
   "execution_count": null,
   "id": "c44f1f33",
   "metadata": {},
   "outputs": [],
   "source": []
  }
 ],
 "metadata": {
  "kernelspec": {
   "display_name": "Python 3",
   "language": "python",
   "name": "python3"
  },
  "language_info": {
   "codemirror_mode": {
    "name": "ipython",
    "version": 3
   },
   "file_extension": ".py",
   "mimetype": "text/x-python",
   "name": "python",
   "nbconvert_exporter": "python",
   "pygments_lexer": "ipython3",
   "version": "3.8.8"
  }
 },
 "nbformat": 4,
 "nbformat_minor": 5
}
